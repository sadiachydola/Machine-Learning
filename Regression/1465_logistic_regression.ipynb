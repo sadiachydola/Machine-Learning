{
  "nbformat": 4,
  "nbformat_minor": 0,
  "metadata": {
    "colab": {
      "provenance": [],
      "collapsed_sections": []
    },
    "kernelspec": {
      "name": "python3",
      "display_name": "Python 3"
    },
    "language_info": {
      "name": "python"
    }
  },
  "cells": [
    {
      "cell_type": "markdown",
      "metadata": {
        "id": "0MRC0e0KhQ0S"
      },
      "source": [
        "# Logistic Regression"
      ]
    },
    {
      "cell_type": "code",
      "metadata": {
        "colab": {
          "base_uri": "https://localhost:8080/"
        },
        "id": "ZyBDlIDqLn_R",
        "outputId": "eb29496b-041e-4859-cbc5-c94beba159af"
      },
      "source": [
        "from google.colab import drive\n",
        "drive.mount('/content/drive')"
      ],
      "execution_count": null,
      "outputs": [
        {
          "output_type": "stream",
          "name": "stdout",
          "text": [
            "Drive already mounted at /content/drive; to attempt to forcibly remount, call drive.mount(\"/content/drive\", force_remount=True).\n"
          ]
        }
      ]
    },
    {
      "cell_type": "markdown",
      "metadata": {
        "id": "LWd1UlMnhT2s"
      },
      "source": [
        "## Importing the libraries"
      ]
    },
    {
      "cell_type": "code",
      "metadata": {
        "id": "YvGPUQaHhXfL"
      },
      "source": [
        "import numpy as np\n",
        "import matplotlib.pyplot as plt\n",
        "import pandas as pd"
      ],
      "execution_count": null,
      "outputs": []
    },
    {
      "cell_type": "markdown",
      "metadata": {
        "id": "K1VMqkGvhc3-"
      },
      "source": [
        "## Importing the dataset"
      ]
    },
    {
      "cell_type": "code",
      "metadata": {
        "id": "M52QDmyzhh9s"
      },
      "source": [
        "dataset = pd.read_csv('/content/drive/MyDrive/Colab Notebooks/Mllab/Datasets/50_Startups.csv')\n",
        "X = dataset.iloc[:, :-3].values\n",
        "y = dataset.iloc[:, -1].values"
      ],
      "execution_count": null,
      "outputs": []
    },
    {
      "cell_type": "code",
      "metadata": {
        "id": "hCsz2yCebe1R",
        "colab": {
          "base_uri": "https://localhost:8080/"
        },
        "outputId": "fb9aaf14-dee0-409d-bf60-686baf379305"
      },
      "source": [
        "print(X)"
      ],
      "execution_count": null,
      "outputs": [
        {
          "output_type": "stream",
          "name": "stdout",
          "text": [
            "[[165349.2  136897.8 ]\n",
            " [162597.7  151377.59]\n",
            " [153441.51 101145.55]\n",
            " [144372.41 118671.85]\n",
            " [142107.34  91391.77]\n",
            " [131876.9   99814.71]\n",
            " [134615.46 147198.87]\n",
            " [130298.13 145530.06]\n",
            " [120542.52 148718.95]\n",
            " [123334.88 108679.17]\n",
            " [101913.08 110594.11]\n",
            " [100671.96  91790.61]\n",
            " [ 93863.75 127320.38]\n",
            " [ 91992.39 135495.07]\n",
            " [119943.24 156547.42]\n",
            " [114523.61 122616.84]\n",
            " [ 78013.11 121597.55]\n",
            " [ 94657.16 145077.58]\n",
            " [ 91749.16 114175.79]\n",
            " [ 86419.7  153514.11]\n",
            " [ 76253.86 113867.3 ]\n",
            " [ 78389.47 153773.43]\n",
            " [ 73994.56 122782.75]\n",
            " [ 67532.53 105751.03]\n",
            " [ 77044.01  99281.34]\n",
            " [ 64664.71 139553.16]\n",
            " [ 75328.87 144135.98]\n",
            " [ 72107.6  127864.55]\n",
            " [ 66051.52 182645.56]\n",
            " [ 65605.48 153032.06]\n",
            " [ 61994.48 115641.28]\n",
            " [ 61136.38 152701.92]\n",
            " [ 63408.86 129219.61]\n",
            " [ 55493.95 103057.49]\n",
            " [ 46426.07 157693.92]\n",
            " [ 46014.02  85047.44]\n",
            " [ 28663.76 127056.21]\n",
            " [ 44069.95  51283.14]\n",
            " [ 20229.59  65947.93]\n",
            " [ 38558.51  82982.09]\n",
            " [ 28754.33 118546.05]\n",
            " [ 27892.92  84710.77]\n",
            " [ 23640.93  96189.63]\n",
            " [ 15505.73 127382.3 ]\n",
            " [ 22177.74 154806.14]\n",
            " [  1000.23 124153.04]\n",
            " [  1315.46 115816.21]\n",
            " [     0.   135426.92]\n",
            " [   542.05  51743.15]\n",
            " [     0.   116983.8 ]]\n"
          ]
        }
      ]
    },
    {
      "cell_type": "code",
      "metadata": {
        "colab": {
          "base_uri": "https://localhost:8080/"
        },
        "outputId": "2dfe9b6f-3c76-472e-ec00-5981cc6dedbf",
        "id": "2orHs0qf6EGt"
      },
      "source": [
        "print(y)"
      ],
      "execution_count": null,
      "outputs": [
        {
          "output_type": "stream",
          "name": "stdout",
          "text": [
            "[192261.83 191792.06 191050.39 182901.99 166187.94 156991.12 156122.51\n",
            " 155752.6  152211.77 149759.96 146121.95 144259.4  141585.52 134307.35\n",
            " 132602.65 129917.04 126992.93 125370.37 124266.9  122776.86 118474.03\n",
            " 111313.02 110352.25 108733.99 108552.04 107404.34 105733.54 105008.31\n",
            " 103282.38 101004.64  99937.59  97483.56  97427.84  96778.92  96712.8\n",
            "  96479.51  90708.19  89949.14  81229.06  81005.76  78239.91  77798.83\n",
            "  71498.49  69758.98  65200.33  64926.08  49490.75  42559.73  35673.41\n",
            "  14681.4 ]\n"
          ]
        }
      ]
    },
    {
      "cell_type": "markdown",
      "source": [
        "# Label Encoding"
      ],
      "metadata": {
        "id": "OYM6Ae_foS3v"
      }
    },
    {
      "cell_type": "markdown",
      "source": [
        "## 50 Startups (Encoded State Coloum)"
      ],
      "metadata": {
        "id": "tITXDHvfoqlb"
      }
    },
    {
      "cell_type": "code",
      "source": [
        "from sklearn.preprocessing import LabelEncoder\n",
        "le = LabelEncoder()\n",
        "y = le.fit_transform(y)\n",
        "print(y)"
      ],
      "metadata": {
        "colab": {
          "base_uri": "https://localhost:8080/"
        },
        "id": "Dmix-0fg4ixV",
        "outputId": "b60f3c59-2cdd-4606-a440-27609e5ce31e"
      },
      "execution_count": null,
      "outputs": [
        {
          "output_type": "stream",
          "name": "stdout",
          "text": [
            "[49 48 47 46 45 44 43 42 41 40 39 38 37 36 35 34 33 32 31 30 29 28 27 26\n",
            " 25 24 23 22 21 20 19 18 17 16 15 14 13 12 11 10  9  8  7  6  5  4  3  2\n",
            "  1  0]\n"
          ]
        }
      ]
    },
    {
      "cell_type": "markdown",
      "source": [
        "### Total Profit Lable"
      ],
      "metadata": {
        "id": "-6Q4APkaykSA"
      }
    },
    {
      "cell_type": "code",
      "source": [
        "a = 0\n",
        "for value in y: \n",
        "  a = a+value\n",
        "print(a)"
      ],
      "metadata": {
        "colab": {
          "base_uri": "https://localhost:8080/"
        },
        "id": "ObwfdzR_83kB",
        "outputId": "f00b3c16-d730-403a-8701-67737c487f56"
      },
      "execution_count": null,
      "outputs": [
        {
          "output_type": "stream",
          "name": "stdout",
          "text": [
            "1225\n"
          ]
        }
      ]
    },
    {
      "cell_type": "code",
      "source": [
        "avg = a/len(y)\n",
        "label = []\n",
        "\n",
        "for i in y:\n",
        "  label.append(0) if i > avg else label.append(1)\n",
        "y = np.array(label)\n",
        "y"
      ],
      "metadata": {
        "colab": {
          "base_uri": "https://localhost:8080/"
        },
        "id": "E8hMgVmT-Kfw",
        "outputId": "139e4e4b-dace-405c-b69d-ff7c993c9d3d"
      },
      "execution_count": null,
      "outputs": [
        {
          "output_type": "execute_result",
          "data": {
            "text/plain": [
              "array([0, 0, 0, 0, 0, 0, 0, 0, 0, 0, 0, 0, 0, 0, 0, 0, 0, 0, 0, 0, 0, 0,\n",
              "       0, 0, 0, 1, 1, 1, 1, 1, 1, 1, 1, 1, 1, 1, 1, 1, 1, 1, 1, 1, 1, 1,\n",
              "       1, 1, 1, 1, 1, 1])"
            ]
          },
          "metadata": {},
          "execution_count": 8
        }
      ]
    },
    {
      "cell_type": "markdown",
      "metadata": {
        "id": "YvxIPVyMhmKp"
      },
      "source": [
        "## Splitting the dataset into the Training set and Test set"
      ]
    },
    {
      "cell_type": "code",
      "metadata": {
        "id": "AVzJWAXIhxoC"
      },
      "source": [
        "from sklearn.model_selection import train_test_split\n",
        "X_train, X_test, y_train, y_test = train_test_split(X, y, test_size = 0.25, random_state = 0)"
      ],
      "execution_count": null,
      "outputs": []
    },
    {
      "cell_type": "code",
      "metadata": {
        "id": "P3nS3-6r1i2B",
        "colab": {
          "base_uri": "https://localhost:8080/"
        },
        "outputId": "6ffc9e57-d03b-47fb-b4dc-afd1bcacb9cd"
      },
      "source": [
        "print(X_train)"
      ],
      "execution_count": null,
      "outputs": [
        {
          "output_type": "stream",
          "name": "stdout",
          "text": [
            "[[ 46426.07 157693.92]\n",
            " [ 91749.16 114175.79]\n",
            " [130298.13 145530.06]\n",
            " [119943.24 156547.42]\n",
            " [  1000.23 124153.04]\n",
            " [   542.05  51743.15]\n",
            " [ 65605.48 153032.06]\n",
            " [114523.61 122616.84]\n",
            " [ 61994.48 115641.28]\n",
            " [ 63408.86 129219.61]\n",
            " [ 78013.11 121597.55]\n",
            " [ 23640.93  96189.63]\n",
            " [ 76253.86 113867.3 ]\n",
            " [ 15505.73 127382.3 ]\n",
            " [120542.52 148718.95]\n",
            " [ 91992.39 135495.07]\n",
            " [ 64664.71 139553.16]\n",
            " [131876.9   99814.71]\n",
            " [ 94657.16 145077.58]\n",
            " [ 28754.33 118546.05]\n",
            " [     0.   116983.8 ]\n",
            " [162597.7  151377.59]\n",
            " [ 93863.75 127320.38]\n",
            " [ 44069.95  51283.14]\n",
            " [ 77044.01  99281.34]\n",
            " [134615.46 147198.87]\n",
            " [ 67532.53 105751.03]\n",
            " [ 28663.76 127056.21]\n",
            " [ 78389.47 153773.43]\n",
            " [ 86419.7  153514.11]\n",
            " [123334.88 108679.17]\n",
            " [ 38558.51  82982.09]\n",
            " [  1315.46 115816.21]\n",
            " [144372.41 118671.85]\n",
            " [165349.2  136897.8 ]\n",
            " [     0.   135426.92]\n",
            " [ 22177.74 154806.14]]\n"
          ]
        }
      ]
    },
    {
      "cell_type": "code",
      "metadata": {
        "id": "8dpDLojm1mVG",
        "colab": {
          "base_uri": "https://localhost:8080/"
        },
        "outputId": "4b0556a2-ea9b-4db3-b485-2ae24fcc84e3"
      },
      "source": [
        "print(y_train)"
      ],
      "execution_count": null,
      "outputs": [
        {
          "output_type": "stream",
          "name": "stdout",
          "text": [
            "[1 0 0 0 1 1 1 0 1 1 0 1 0 1 0 0 1 0 0 1 1 0 0 1 0 0 0 1 0 0 0 1 1 0 0 1 1]\n"
          ]
        }
      ]
    },
    {
      "cell_type": "code",
      "metadata": {
        "id": "qbb7i0DH1qui",
        "colab": {
          "base_uri": "https://localhost:8080/"
        },
        "outputId": "a08903a7-64b3-4e8a-f420-33500a744ae8"
      },
      "source": [
        "print(X_test)"
      ],
      "execution_count": null,
      "outputs": [
        {
          "output_type": "stream",
          "name": "stdout",
          "text": [
            "[[ 66051.52 182645.56]\n",
            " [100671.96  91790.61]\n",
            " [101913.08 110594.11]\n",
            " [ 27892.92  84710.77]\n",
            " [153441.51 101145.55]\n",
            " [ 72107.6  127864.55]\n",
            " [ 20229.59  65947.93]\n",
            " [ 61136.38 152701.92]\n",
            " [ 73994.56 122782.75]\n",
            " [142107.34  91391.77]\n",
            " [ 55493.95 103057.49]\n",
            " [ 46014.02  85047.44]\n",
            " [ 75328.87 144135.98]]\n"
          ]
        }
      ]
    },
    {
      "cell_type": "code",
      "metadata": {
        "id": "kj1hnFAR1s5w",
        "colab": {
          "base_uri": "https://localhost:8080/"
        },
        "outputId": "ded2118b-06b9-4695-f0b5-1422c4196664"
      },
      "source": [
        "print(y_test)"
      ],
      "execution_count": null,
      "outputs": [
        {
          "output_type": "stream",
          "name": "stdout",
          "text": [
            "[1 0 0 1 0 1 1 1 0 0 1 1 1]\n"
          ]
        }
      ]
    },
    {
      "cell_type": "markdown",
      "metadata": {
        "id": "kW3c7UYih0hT"
      },
      "source": [
        "## Feature Scaling (Write appropriate code for feature scaling)"
      ]
    },
    {
      "cell_type": "code",
      "metadata": {
        "id": "9fQlDPKCh8sc"
      },
      "source": [
        "from sklearn.preprocessing import StandardScaler\n",
        "sc = StandardScaler()\n",
        "X_train = sc.fit_transform(X_train)\n",
        "X_test = sc.transform(X_test)"
      ],
      "execution_count": null,
      "outputs": []
    },
    {
      "cell_type": "code",
      "metadata": {
        "id": "syrnD1Op2BSR"
      },
      "source": [
        "# print(X_train)"
      ],
      "execution_count": null,
      "outputs": []
    },
    {
      "cell_type": "code",
      "metadata": {
        "id": "JUd6iBRp2C3L"
      },
      "source": [
        "# print(X_test)"
      ],
      "execution_count": null,
      "outputs": []
    },
    {
      "cell_type": "markdown",
      "metadata": {
        "id": "bb6jCOCQiAmP"
      },
      "source": [
        "## Training the Logistic Regression model on the Training set"
      ]
    },
    {
      "cell_type": "code",
      "metadata": {
        "id": "e0pFVAmciHQs",
        "colab": {
          "base_uri": "https://localhost:8080/"
        },
        "outputId": "e187adac-5f24-4f19-f926-71f2d8288220"
      },
      "source": [
        "from sklearn.linear_model import LogisticRegression\n",
        "classifier = LogisticRegression(random_state = 0)\n",
        "classifier.fit(X_train, y_train)\n",
        "#classifier.fit(X_train, y_train)"
      ],
      "execution_count": null,
      "outputs": [
        {
          "output_type": "execute_result",
          "data": {
            "text/plain": [
              "LogisticRegression(random_state=0)"
            ]
          },
          "metadata": {},
          "execution_count": 15
        }
      ]
    },
    {
      "cell_type": "markdown",
      "metadata": {
        "id": "yyxW5b395mR2"
      },
      "source": [
        "## Predicting a new result"
      ]
    },
    {
      "cell_type": "code",
      "metadata": {
        "id": "f8YOXsQy58rP",
        "colab": {
          "base_uri": "https://localhost:8080/"
        },
        "outputId": "9e561427-3884-478d-ba39-d0a82eb6a8ff"
      },
      "source": [
        "print(classifier.predict(X_test))"
      ],
      "execution_count": null,
      "outputs": [
        {
          "output_type": "stream",
          "name": "stdout",
          "text": [
            "[0 0 0 1 0 0 1 1 0 0 1 1 0]\n"
          ]
        }
      ]
    },
    {
      "cell_type": "markdown",
      "metadata": {
        "id": "vKYVQH-l5NpE"
      },
      "source": [
        "## Predicting the Test set results"
      ]
    },
    {
      "cell_type": "code",
      "metadata": {
        "id": "p6VMTb2O4hwM",
        "colab": {
          "base_uri": "https://localhost:8080/"
        },
        "outputId": "b9981371-f327-4e5c-ce4f-37c16c7a0052"
      },
      "source": [
        "y_pred = classifier.predict(X_test)\n",
        "print(np.concatenate((y_pred.reshape(len(y_pred),1), y_test.reshape(len(y_test),1)),1))"
      ],
      "execution_count": null,
      "outputs": [
        {
          "output_type": "stream",
          "name": "stdout",
          "text": [
            "[[0 1]\n",
            " [0 0]\n",
            " [0 0]\n",
            " [1 1]\n",
            " [0 0]\n",
            " [0 1]\n",
            " [1 1]\n",
            " [1 1]\n",
            " [0 0]\n",
            " [0 0]\n",
            " [1 1]\n",
            " [1 1]\n",
            " [0 1]]\n"
          ]
        }
      ]
    },
    {
      "cell_type": "markdown",
      "metadata": {
        "id": "h4Hwj34ziWQW"
      },
      "source": [
        "## Making the Confusion Matrix"
      ]
    },
    {
      "cell_type": "code",
      "metadata": {
        "id": "D6bpZwUiiXic",
        "colab": {
          "base_uri": "https://localhost:8080/"
        },
        "outputId": "cb748407-dbf4-4a22-b866-d38f802a5e01"
      },
      "source": [
        "from sklearn.metrics import confusion_matrix, accuracy_score\n",
        "cm = confusion_matrix(y_test, y_pred)\n",
        "print(cm)\n",
        "accuracy_score(y_test, y_pred)"
      ],
      "execution_count": null,
      "outputs": [
        {
          "output_type": "stream",
          "name": "stdout",
          "text": [
            "[[5 0]\n",
            " [3 5]]\n"
          ]
        },
        {
          "output_type": "execute_result",
          "data": {
            "text/plain": [
              "0.7692307692307693"
            ]
          },
          "metadata": {},
          "execution_count": 18
        }
      ]
    },
    {
      "cell_type": "markdown",
      "metadata": {
        "id": "6OMC_P0diaoD"
      },
      "source": [
        "## Visualising the Training set results"
      ]
    },
    {
      "cell_type": "code",
      "metadata": {
        "id": "_NOjKvZRid5l",
        "colab": {
          "base_uri": "https://localhost:8080/",
          "height": 269
        },
        "outputId": "c6355610-4ed1-4314-dfd5-3507e1a833d9"
      },
      "source": [
        "min1, max1 = X_train[:, 0].min()-1, X_train[:, 0].max()+1\n",
        "min2, max2 = X_train[:, 1].min()-1, X_train[:, 1].max()+1\n",
        "x1grid = np.arange(min1, max1, 0.1)\n",
        "x2grid = np.arange(min2, max2, 0.1)\n",
        "xx, yy = np.meshgrid(x1grid, x2grid)\n",
        "r1, r2 = xx.flatten(), yy.flatten()\n",
        "r1, r2 = r1.reshape((len(r1), 1)), r2.reshape((len(r2), 1))\n",
        "grid = np.hstack((r1,r2))\n",
        "yhat = classifier.predict_proba(grid)\n",
        "yhat = yhat[:, 0]\n",
        "zz = yhat.reshape(xx.shape)\n",
        "c = plt.contourf(xx, yy, zz, cmap='RdBu')\n",
        "plt.colorbar(c)\n",
        "for class_value in range(2):\n",
        "    row_ix = np.where(y_train == class_value)\n",
        "    plt.scatter(X_train[row_ix, 0], X_train[row_ix, 1], cmap='Paired')"
      ],
      "execution_count": null,
      "outputs": [
        {
          "output_type": "display_data",
          "data": {
            "image/png": "[encoded data removed]",
            "text/plain": [
              "<Figure size 432x288 with 2 Axes>"
            ]
          },
          "metadata": {
            "needs_background": "light"
          }
        }
      ]
    },
    {
      "cell_type": "markdown",
      "metadata": {
        "id": "SZ-j28aPihZx"
      },
      "source": [
        "## Visualising the Test set results"
      ]
    },
    {
      "cell_type": "code",
      "metadata": {
        "id": "qeTjz2vDilAC",
        "colab": {
          "base_uri": "https://localhost:8080/",
          "height": 269
        },
        "outputId": "8d51aea6-9b06-4077-d894-8bb450290bd5"
      },
      "source": [
        "min1, max1 = X_test[:, 0].min()-1, X_test[:, 0].max()+1\n",
        "min2, max2 = X_test[:, 1].min()-1, X_test[:, 1].max()+1\n",
        "x1grid = np.arange(min1, max1, 0.1)\n",
        "x2grid = np.arange(min2, max2, 0.1)\n",
        "xx, yy = np.meshgrid(x1grid, x2grid)\n",
        "r1, r2 = xx.flatten(), yy.flatten()\n",
        "r1, r2 = r1.reshape((len(r1), 1)), r2.reshape((len(r2), 1))\n",
        "grid = np.hstack((r1,r2))\n",
        "yhat = classifier.predict_proba(grid)\n",
        "yhat = yhat[:, 0]\n",
        "zz = yhat.reshape(xx.shape)\n",
        "c = plt.contourf(xx, yy, zz, cmap='RdBu')\n",
        "plt.colorbar(c)\n",
        "for class_value in range(2):\n",
        "    row_ix = np.where(y_test == class_value)\n",
        "    plt.scatter(X_test[row_ix, 0], X_test[row_ix, 1], cmap='Paired')"
      ],
      "execution_count": null,
      "outputs": [
        {
          "output_type": "display_data",
          "data": {
            "image/png": "[encoded data removed]",
            "text/plain": [
              "<Figure size 432x288 with 2 Axes>"
            ]
          },
          "metadata": {
            "needs_background": "light"
          }
        }
      ]
    }
  ]
}